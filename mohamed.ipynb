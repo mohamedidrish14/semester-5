{
 "cells": [
  {
   "cell_type": "code",
   "execution_count": 1,
   "id": "6f734216-2f44-4a28-911b-477b18898a04",
   "metadata": {},
   "outputs": [
    {
     "name": "stdout",
     "output_type": "stream",
     "text": [
      "original list: [1, 3, 4, 5, 55, 55, 6, 50]\n",
      "removed list: [1, 3, 4, 5, 55, 6, 50]\n"
     ]
    }
   ],
   "source": [
    "def delete(list):\n",
    "    empty_list=[]\n",
    "    for i in list:\n",
    "        if i not in empty_list:\n",
    "            empty_list.append(i)\n",
    "    return empty_list\n",
    "list=[1,3,4,5,55,55,6,50]\n",
    "empty_list=delete(list)\n",
    "print(\"original list:\", list)\n",
    "print(\"removed list:\", empty_list)"
   ]
  },
  {
   "cell_type": "code",
   "execution_count": null,
   "id": "bf66250d-5b24-429c-8109-965589310961",
   "metadata": {},
   "outputs": [],
   "source": []
  }
 ],
 "metadata": {
  "kernelspec": {
   "display_name": "Python 3 (ipykernel)",
   "language": "python",
   "name": "python3"
  },
  "language_info": {
   "codemirror_mode": {
    "name": "ipython",
    "version": 3
   },
   "file_extension": ".py",
   "mimetype": "text/x-python",
   "name": "python",
   "nbconvert_exporter": "python",
   "pygments_lexer": "ipython3",
   "version": "3.9.19"
  }
 },
 "nbformat": 4,
 "nbformat_minor": 5
}
